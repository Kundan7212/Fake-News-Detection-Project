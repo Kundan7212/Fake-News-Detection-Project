{
  "nbformat": 4,
  "nbformat_minor": 0,
  "metadata": {
    "colab": {
      "provenance": [],
      "authorship_tag": "ABX9TyOgt1CxYbThIibG+xC4xkfH",
      "include_colab_link": true
    },
    "kernelspec": {
      "name": "python3",
      "display_name": "Python 3"
    },
    "language_info": {
      "name": "python"
    }
  },
  "cells": [
    {
      "cell_type": "markdown",
      "metadata": {
        "id": "view-in-github",
        "colab_type": "text"
      },
      "source": [
        "<a href=\"https://colab.research.google.com/github/Kundan7212/Fake-News-Detection-Project/blob/main/notebooks/Fake_News_Detection.ipynb\" target=\"_parent\"><img src=\"https://colab.research.google.com/assets/colab-badge.svg\" alt=\"Open In Colab\"/></a>"
      ]
    },
    {
      "cell_type": "code",
      "source": [
        "# Install git-lfs for handling large files if needed\n",
        "!apt-get install git-lfs\n",
        "\n",
        "# Configure Git\n",
        "!git config --global user.email \"your-email@example.com\"  # Replace with your email\n",
        "!git config --global user.name \"Your Name\"  # Replace with your name"
      ],
      "metadata": {
        "colab": {
          "base_uri": "https://localhost:8080/"
        },
        "id": "pIDIqHvigFp4",
        "outputId": "85a39e72-27b4-4d15-8991-558b15d9e123"
      },
      "execution_count": 2,
      "outputs": [
        {
          "output_type": "stream",
          "name": "stdout",
          "text": [
            "Reading package lists... Done\n",
            "Building dependency tree... Done\n",
            "Reading state information... Done\n",
            "git-lfs is already the newest version (3.0.2-1ubuntu0.3).\n",
            "0 upgraded, 0 newly installed, 0 to remove and 29 not upgraded.\n"
          ]
        }
      ]
    },
    {
      "cell_type": "code",
      "source": [
        "# Remove any existing directory with the same name\n",
        "!rm -rf Fake-News-Detection-Project\n",
        "\n",
        "# Clone your repository\n",
        "!git clone https://github.com/YOUR-USERNAME/Fake-News-Detection-Project.git  # Replace YOUR-USERNAME with your GitHub username\n",
        "\n",
        "# Navigate to the repository\n",
        "%cd Fake-News-Detection-Project\n",
        "\n",
        "# Create project directories if they don't exist\n",
        "!mkdir -p data\n",
        "!mkdir -p models\n",
        "!mkdir -p notebooks\n",
        "!mkdir -p app\n",
        "\n",
        "print(\"Successfully cloned and set up the repository structure!\")"
      ],
      "metadata": {
        "colab": {
          "base_uri": "https://localhost:8080/"
        },
        "id": "JnvY68USgdUN",
        "outputId": "12054177-2fae-4b77-b3af-3778a0724634"
      },
      "execution_count": 3,
      "outputs": [
        {
          "output_type": "stream",
          "name": "stdout",
          "text": [
            "Cloning into 'Fake-News-Detection-Project'...\n",
            "fatal: could not read Username for 'https://github.com': No such device or address\n",
            "[Errno 2] No such file or directory: 'Fake-News-Detection-Project'\n",
            "/content\n",
            "Successfully cloned and set up the repository structure!\n"
          ]
        }
      ]
    }
  ]
}